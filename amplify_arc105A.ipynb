{
 "cells": [
  {
   "cell_type": "code",
   "execution_count": 14,
   "metadata": {},
   "outputs": [],
   "source": [
    "from amplify import gen_symbols, BinaryPoly\n",
    "from amplify import sum_poly\n",
    "from amplify.constraint import equal_to\n",
    "import matplotlib.pyplot as plt\n",
    "from amplify import Solver\n",
    "from amplify.client import FixstarsClient\n",
    "import matplotlib.ticker as ticker   \n",
    "import os"
   ]
  },
  {
   "cell_type": "code",
   "execution_count": 15,
   "metadata": {},
   "outputs": [],
   "source": [
    "def q_annealing(n):\n",
    "# n = [int(i) for i in input().split()]\n",
    "    q = gen_symbols(IsingPoly, len(n))\n",
    "\n",
    "    # ハミルトニアン 数の分割問題\n",
    "    # https://quantum.fixstars.com/techresouces/research/ising-model-formulation/number-partitioning/\n",
    "    f = 0\n",
    "    for i, num in enumerate(n):\n",
    "        f += num * q[i]\n",
    "\n",
    "    model = f ** 2\n",
    "\n",
    "    # 計算実行------------------------------------------------------------------------------------------\n",
    "    client = FixstarsClient()\n",
    "    with open(\"tokenfile.txt\", \"r\") as f:\n",
    "        token = f.readline()\n",
    "    client.token = token\n",
    "    client.parameters.timeout = 3000  # タイムアウト9秒\n",
    "    solver = Solver(client)\n",
    "\n",
    "    result = solver.solve(model)\n",
    "    if len(result) == 0:\n",
    "        raise RuntimeError(\"Any one of constraints is not satisfied.\")\n",
    "\n",
    "    energy, values = result[0].energy, result[0].values\n",
    "\n",
    "    # print(energy)\n",
    "    return [\"No\", \"Yes\"][energy==0]"
   ]
  },
  {
   "cell_type": "code",
   "execution_count": 21,
   "metadata": {},
   "outputs": [
    {
     "name": "stdout",
     "output_type": "stream",
     "text": [
      "random_01.txt Amplify結果 = Yes 正解 = Yes\n",
      "\n",
      "random_02.txt Amplify結果 = Yes 正解 = Yes\n",
      "\n",
      "random_03.txt Amplify結果 = Yes 正解 = Yes\n",
      "\n",
      "random_04.txt Amplify結果 = Yes 正解 = Yes\n",
      "\n",
      "random_05.txt Amplify結果 = No 正解 = No\n",
      "\n",
      "random_06.txt Amplify結果 = No 正解 = No\n",
      "\n",
      "random_07.txt Amplify結果 = No 正解 = No\n",
      "\n",
      "random_08.txt Amplify結果 = Yes 正解 = Yes\n",
      "\n",
      "random_09.txt Amplify結果 = Yes 正解 = Yes\n",
      "\n",
      "random_10.txt Amplify結果 = No 正解 = No\n",
      "\n",
      "random_11.txt Amplify結果 = No 正解 = No\n",
      "\n",
      "random_12.txt Amplify結果 = No 正解 = No\n",
      "\n",
      "sample_01.txt Amplify結果 = Yes 正解 = Yes\n",
      "\n",
      "sample_02.txt Amplify結果 = No 正解 = No\n",
      "\n"
     ]
    }
   ],
   "source": [
    "# テストケース読み込み\n",
    "# https://www.dropbox.com/sh/nx3tnilzqz7df8a/AADpZ-2W4pF1JT7prYveYlnVa/ARC105/A?dl=0&subfolder_nav_tracking=1\n",
    "\n",
    "files = os.listdir(\"ARC105A/in\")\n",
    "for file in files:\n",
    "    with open(\"ARC105A/in/\" + file, \"r\") as f:\n",
    "        n = [int(i) for i in f.readline().split()]\n",
    "    with open(\"ARC105A/out/\" + file, \"r\") as f:\n",
    "        ans = f.readline()\n",
    "    result = q_annealing(n)\n",
    "    print(file, \"Amplify結果 =\", result, \"正解 =\", ans)"
   ]
  },
  {
   "cell_type": "code",
   "execution_count": null,
   "metadata": {},
   "outputs": [],
   "source": []
  }
 ],
 "metadata": {
  "kernelspec": {
   "display_name": "Python 3",
   "language": "python",
   "name": "python3"
  },
  "language_info": {
   "codemirror_mode": {
    "name": "ipython",
    "version": 3
   },
   "file_extension": ".py",
   "mimetype": "text/x-python",
   "name": "python",
   "nbconvert_exporter": "python",
   "pygments_lexer": "ipython3",
   "version": "3.8.5"
  }
 },
 "nbformat": 4,
 "nbformat_minor": 4
}
